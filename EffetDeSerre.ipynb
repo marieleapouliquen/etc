{
 "cells": [
  {
   "cell_type": "markdown",
   "metadata": {},
   "source": [
    "# Modèle 2 : L'effet de serre"
   ]
  },
  {
   "cell_type": "markdown",
   "metadata": {},
   "source": [
    "## Présentation "
   ]
  },
  {
   "cell_type": "raw",
   "metadata": {},
   "source": [
    "Notre premier modèle de climat donne des températures planétaires trop froides ! Pour y remédier, nous allons ajouter un mécanisme appelé « effet de serre ». Nous imaginons une vitre en suspension au dessus du sol. Les rayons solaires la traversent sans être absorbés. Les rayons terrestres provenant du sol en revanche sont absorbés par la vitre qui les réémet ensuite, dans toutes les directions de l'espace (sol, espace). Nous supposons que l'émissivité de la vitre est 1. Il s'agit d'une approximation très grossière. En effet, la vitre n'est pas un corps noir. Si elle l'était, elle absorberait les rayonnements solaires ! "
   ]
  },
  {
   "cell_type": "markdown",
   "metadata": {},
   "source": [
    "## Le modèle"
   ]
  },
  {
   "cell_type": "code",
   "execution_count": 1,
   "metadata": {},
   "outputs": [],
   "source": [
    "import matplotlib.pyplot as plt\n",
    "import numpy as np\n",
    "from bokeh.plotting import figure\n",
    "from bokeh.io import output_file, output_notebook, show\n",
    "from bokeh.layouts import layout, column, row\n",
    "from bokeh.models import ColumnDataSource, Label, LabelSet\n",
    "from bokeh.models import Legend, LegendItem\n",
    "from bokeh.transform import linear_cmap\n"
   ]
  },
  {
   "cell_type": "code",
   "execution_count": 2,
   "metadata": {},
   "outputs": [],
   "source": [
    "def greenhouse(alpha=0.3,L=1364):\n",
    "\n",
    "    eps = 1\n",
    "    Is = (1 - alpha) * L / 4\n",
    "    sigma = 5.67 * 10 **(-8)\n",
    "    timeStep = 1\n",
    "    Cp = 4000 * 4.2 * 10**6\n",
    "\n",
    "    Teq1 = (Is / (eps * sigma))**(0.25)\n",
    "    Teq2 = ( Is / (1 - eps / 2) / sigma)**(1/4)\n",
    "\n",
    "    time = []\n",
    "    Ts1 = []\n",
    "    Ts2 = []\n",
    "\n",
    "    time.append(0)\n",
    "    Ts1.append(0)\n",
    "    Ts2.append(0)\n",
    "\n",
    "    heatIn = Is\n",
    "\n",
    "    heatOut1 = 0\n",
    "    heatOut2 = 0\n",
    "\n",
    "    heatContent1 = []\n",
    "    heatContent2 = []\n",
    "\n",
    "    heatContent1.append(heatIn - heatOut1)\n",
    "    heatContent2.append(heatIn - heatOut2)\n",
    "\n",
    "    for it in range(1,2000):\n",
    "        time.append(time[it-1] + timeStep)\n",
    "\n",
    "        heatOut1 = eps * sigma * Ts1[it - 1] **4\n",
    "        heatContent1.append(heatContent1[it - 1] + (heatIn - heatOut1) * timeStep * 3.14 * 10**7)\n",
    "        Ts1.append(heatContent1[it] / Cp)\n",
    "\n",
    "        heatOut2 = eps * sigma * Ts2[it - 1]** 4 / 2\n",
    "        heatContent2.append(heatContent2[it - 1] + (heatIn - heatOut2) * timeStep * 3.14 * 10**7)\n",
    "        Ts2.append(heatContent2[it] / Cp)\n",
    "\n",
    "    return Teq1, Teq2, Ts1, Ts2, time"
   ]
  },
  {
   "cell_type": "markdown",
   "metadata": {},
   "source": [
    "## Version Bokeh"
   ]
  },
  {
   "cell_type": "code",
   "execution_count": 3,
   "metadata": {},
   "outputs": [],
   "source": [
    "Teq1, Teq2, Ts1, Ts2, time = greenhouse(0.3,3500)\n",
    "\n",
    "\n",
    "for i in range(2000):\n",
    "    Ts1[i] = Ts1[i] - 273.15\n",
    "    Ts2[i] = Ts2[i] - 273.15\n",
    "    \n",
    "\n",
    "output_file(\"effet_de_serre.html\")\n",
    "\n",
    "p1 = figure(plot_width=800, plot_height=400 )\n",
    "\n",
    "r1=p1.line(time, Ts1, line_color=\"khaki\" , line_width=2)\n",
    "r2=p1.line(time, Ts2, line_color=\"darkorange\", line_width=2)\n",
    "\n",
    "legend = Legend(items=[\n",
    "    LegendItem(label=\"Avec Effet de Serre\", renderers=[r2], index=0),\n",
    "    LegendItem(label=\"Sans Effet de Serre\", renderers=[r1], index=1),\n",
    "])\n",
    "p1.add_layout(legend)\n",
    "\n",
    "p1.xaxis.visible = True\n",
    "p1.xaxis.axis_label = 'Temps [unité arbitraire]'\n",
    "p1.yaxis.visible = True\n",
    "p1.yaxis.axis_label = 'Température [°C]'\n",
    "p1.xgrid.grid_line_color = None\n",
    "p1.ygrid.grid_line_color = None\n",
    "\n",
    "p1.toolbar.autohide = False\n",
    "\n",
    "p1.outline_line_width = 1\n",
    "p1.outline_line_color = \"black\"\n",
    "\n",
    "p1.background_fill_alpha = 1\n",
    "p1.background_fill_color = \"white\"\n",
    "\n",
    "\n",
    "show(p1, notebook_handle=True)"
   ]
  },
  {
   "cell_type": "markdown",
   "metadata": {},
   "source": [
    "## Version Jupiter"
   ]
  },
  {
   "cell_type": "code",
   "execution_count": 4,
   "metadata": {},
   "outputs": [
    {
     "data": {
      "image/png": "[encoded data removed]",
      "text/plain": [
       "<Figure size 360x360 with 1 Axes>"
      ]
     },
     "metadata": {
      "needs_background": "light"
     },
     "output_type": "display_data"
    }
   ],
   "source": [
    "# Ma planète\n",
    "alpha_random = 0.4\n",
    "L_random = 3000\n",
    "Teq1_Random, Teq2_Random, Ts1_Random, Ts2_Random, time4 = greenhouse(alpha_random,L_random)\n",
    "# Les autres planètes\n",
    "Teq1_Earth, Teq2_Earth, Ts1_Earth, Ts2_Earth, time = greenhouse(0.3,1350)\n",
    "Teq1_Venus, Teq2_Venus, Ts1_Venus, Ts2_Venus, time2 = greenhouse(0.7,2600)\n",
    "Teq1_Mars, Teq2_Mars, Ts1_Mars, Ts2_Mars, time3 = greenhouse(0.15,600)\n",
    "# Figure 1 : \n",
    "plt.figure(figsize=(5,5))\n",
    "plt.scatter(600,Teq1_Mars,color='orange')\n",
    "plt.scatter(600,Teq2_Mars,marker='*',color='orange')\n",
    "plt.scatter(600,240,color='darkorange')\n",
    "plt.text(600,245,'Mars',color='darkorange')\n",
    "\n",
    "plt.scatter(1350,Teq1_Earth,color='lightblue',label='Terre')\n",
    "plt.scatter(1350,Teq2_Earth,marker='*',color='lightblue')\n",
    "plt.scatter(1350,295,color='blue')\n",
    "plt.text(1350,300,'Terre',color='blue')\n",
    "\n",
    "plt.scatter(2600,Teq1_Venus,color='pink',label='Vénus')\n",
    "plt.scatter(2600,Teq2_Venus,marker='*',color='pink')\n",
    "plt.scatter(2600,700,color='deeppink')\n",
    "plt.text(2600,705,'Vénus',color='deeppink')\n",
    "\n",
    "plt.scatter(L_random,Teq1_Random,color='black',label='Ma Planète')\n",
    "plt.scatter(L_random,Teq2_Random,marker='*',color='black')\n",
    "plt.text(L_random,Teq2_Random+4,'Ma Planète',color='black')\n",
    "\n",
    "plt.xlabel('Energie solaire reçue [W/m²]')\n",
    "plt.ylabel('Température d' \"'\" 'équilibre planétaire [K]')\n",
    "#plt.legend(loc='best')\n",
    "plt.tight_layout()\n",
    "plt.show()"
   ]
  },
  {
   "cell_type": "code",
   "execution_count": null,
   "metadata": {},
   "outputs": [],
   "source": []
  },
  {
   "cell_type": "code",
   "execution_count": null,
   "metadata": {},
   "outputs": [],
   "source": []
  }
 ],
 "metadata": {
  "kernelspec": {
   "display_name": "Python 3",
   "language": "python",
   "name": "python3"
  },
  "language_info": {
   "codemirror_mode": {
    "name": "ipython",
    "version": 3
   },
   "file_extension": ".py",
   "mimetype": "text/x-python",
   "name": "python",
   "nbconvert_exporter": "python",
   "pygments_lexer": "ipython3",
   "version": "3.8.5"
  }
 },
 "nbformat": 4,
 "nbformat_minor": 2
}
