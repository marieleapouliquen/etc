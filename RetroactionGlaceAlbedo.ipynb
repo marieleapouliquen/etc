{
 "cells": [
  {
   "cell_type": "markdown",
   "metadata": {},
   "source": [
    "# Rétroaction glace-albédo et Terre \"boule de neige\""
   ]
  },
  {
   "cell_type": "markdown",
   "metadata": {},
   "source": [
    "## Le modèle 1 : \"effet de l'albédo sur Terre\""
   ]
  },
  {
   "cell_type": "raw",
   "metadata": {},
   "source": [
    "La boucle de rétroaction glace-albédo \n",
    "Des températures plus froides entraînent une expansion des surfaces glacées et enneigées. Or celles-ci sont plus réfléchissantes que l'eau et la végétation. Par conséquent, le rayonnement solaire absorbé par la surface est plus faible. La surface a donc tendance à se refroidir. On a donc une amplification du refroidissement, c'est-à-dire une boucle de rétroaction positive... "
   ]
  },
  {
   "cell_type": "code",
   "execution_count": 1,
   "metadata": {},
   "outputs": [
    {
     "ename": "ModuleNotFoundError",
     "evalue": "No module named 'cartopy'",
     "output_type": "error",
     "traceback": [
      "\u001b[1;31m---------------------------------------------------------------------------\u001b[0m",
      "\u001b[1;31mModuleNotFoundError\u001b[0m                       Traceback (most recent call last)",
      "\u001b[1;32m<ipython-input-1-4580cab207c3>\u001b[0m in \u001b[0;36m<module>\u001b[1;34m\u001b[0m\n\u001b[0;32m      4\u001b[0m \u001b[1;32mimport\u001b[0m \u001b[0mmatplotlib\u001b[0m\u001b[1;33m.\u001b[0m\u001b[0mpyplot\u001b[0m \u001b[1;32mas\u001b[0m \u001b[0mplt\u001b[0m\u001b[1;33m\u001b[0m\u001b[1;33m\u001b[0m\u001b[0m\n\u001b[0;32m      5\u001b[0m \u001b[1;32mfrom\u001b[0m \u001b[0mmatplotlib\u001b[0m \u001b[1;32mimport\u001b[0m \u001b[0mcolorbar\u001b[0m\u001b[1;33m,\u001b[0m \u001b[0mcolors\u001b[0m\u001b[1;33m\u001b[0m\u001b[1;33m\u001b[0m\u001b[0m\n\u001b[1;32m----> 6\u001b[1;33m \u001b[1;32mimport\u001b[0m \u001b[0mcartopy\u001b[0m\u001b[1;33m.\u001b[0m\u001b[0mcrs\u001b[0m \u001b[1;32mas\u001b[0m \u001b[0mccrs\u001b[0m\u001b[1;33m\u001b[0m\u001b[1;33m\u001b[0m\u001b[0m\n\u001b[0m\u001b[0;32m      7\u001b[0m \u001b[1;32mfrom\u001b[0m \u001b[0mcartopy\u001b[0m\u001b[1;33m.\u001b[0m\u001b[0mmpl\u001b[0m\u001b[1;33m.\u001b[0m\u001b[0mgridliner\u001b[0m \u001b[1;32mimport\u001b[0m \u001b[0mLONGITUDE_FORMATTER\u001b[0m\u001b[1;33m,\u001b[0m \u001b[0mLATITUDE_FORMATTER\u001b[0m\u001b[1;33m\u001b[0m\u001b[1;33m\u001b[0m\u001b[0m\n\u001b[0;32m      8\u001b[0m \u001b[1;33m\u001b[0m\u001b[0m\n",
      "\u001b[1;31mModuleNotFoundError\u001b[0m: No module named 'cartopy'"
     ]
    }
   ],
   "source": [
    "import numpy as np\n",
    "import numpy.ma as ma\n",
    "import matplotlib as mpl\n",
    "import matplotlib.pyplot as plt\n",
    "from matplotlib import colorbar, colors\n",
    "import cartopy.crs as ccrs\n",
    "from cartopy.mpl.gridliner import LONGITUDE_FORMATTER, LATITUDE_FORMATTER\n",
    "\n",
    "f1 = 'data/alpha_03_2000.txt'\n",
    "f2 = 'data/alpha_03_2001.txt'\n",
    "f3 = 'data/alpha_03_2002.txt'\n",
    "f4 = 'data/alpha_03_2003.txt'\n",
    "f5 = 'data/alpha_03_2004.txt'\n",
    "f6 = 'data/alpha_03_2005.txt'\n",
    "\n",
    "\n",
    "class AlbedoEffect() :\n",
    "\n",
    "    def __init__(self, filename):\n",
    "        self.name = filename\n",
    "        self.alpha = self.getAlbedo()\n",
    "        Teq1, Teq2 = self.evalTeq()\n",
    "        self.Teq1 = Teq1\n",
    "        self.Teq2 = Teq2\n",
    "        del Teq1, Teq2\n",
    "\n",
    "\n",
    "    def getAlbedo(self) :\n",
    "        \n",
    "        f = open(self.name,'r')\n",
    "        alpha = np.genfromtxt(f,delimiter=',')\n",
    "        alphax = ma.masked_values(alpha,99999.)\n",
    "        # alpha[np.where(alpha == 99999.)] = 0.25\n",
    "        return alphax\n",
    "\n",
    "    def evalTeq(self) :\n",
    "        # Evalue la température d'équilibre sans et avec effet de serre\n",
    "\n",
    "        alpha = self.alpha\n",
    "\n",
    "        # Paramètres physiques\n",
    "        L = 1350                   # Constante solaire\n",
    "        Is = (1 - alpha) * L / 4   # Flux solaire incident(en surface)\n",
    "        eps = 1                    # Emissivité atmosphérique\n",
    "        sigma = 5.67 * 10 **(-8)   # Constante de Stefan - Boltzman\n",
    "\n",
    "        # Températures d'équilibre isotherme\n",
    "        Teq1 = (Is / (eps * sigma))**(1/4) - 273.15         # sans effet de serre\n",
    "        Teq2 = (Is / (1 - eps / 2) / sigma)**(1/4) - 273.15 # avec effet de serre (pour 1 vitre)\n",
    "\n",
    "        return Teq1, Teq2\n",
    "\n",
    "    def intTeq(self) :\n",
    "        # Calcule la température transitoire avant l'atteinte d'équilibre\n",
    "\n",
    "        alpha = self.alpha\n",
    "\n",
    "        # Paramètres\n",
    "        L = 1350.                  # Constante solaire\n",
    "        Is = (1 - alpha) * L / 4   # Flux solaire incident(en surface)\n",
    "        sigma = 5.67 * 10 ** (-8)  # Constante de Stefan - Boltzman\n",
    "        eps = 1                    # Emissivité atmosphérique\n",
    "        Cp = 4. * 10**6 * 4000\n",
    "\n",
    "        timeStep = 100\n",
    "\n",
    "        # Initialisation\n",
    "        Ts1 = [np.zeros((180,360))]\n",
    "        Ts2 = [np.zeros((180,360))]\n",
    "\n",
    "        heatIn = Is\n",
    "        heatOut1 = np.zeros((180,360))\n",
    "        heatOut2 = np.zeros((180,360))\n",
    "\n",
    "        heatContent1 = heatIn - heatOut1\n",
    "        heatContent2 = heatIn - heatOut2\n",
    "\n",
    "        Nglass = 2 ; # pour 1 vitre\n",
    "\n",
    "        # Intégration\n",
    "        for it in range(1,100):\n",
    "\n",
    "            heatOut1 = eps * sigma * Ts1[it - 1] ** 4\n",
    "            heatContent1 = heatContent1 + (heatIn - heatOut1) * (timeStep * 3.14 * 10 ** 7)\n",
    "            Ts1.append(heatContent1 / Cp)\n",
    "\n",
    "            heatOut2 = eps * sigma * Ts2[it - 1] ** 4 / Nglass\n",
    "            heatContent2 = heatContent2 + (heatIn - heatOut2) * (timeStep * 3.14 * 10 ** 7)\n",
    "            Ts2.append(heatContent2 / Cp)\n",
    "\n",
    "        for it in range(0,100):\n",
    "            Ts1[it] = Ts1[it] - 273.15\n",
    "            Ts2[it] = Ts2[it] - 273.15\n",
    "\n",
    "        return Ts1[-1], Ts2[-1]\n",
    "\n",
    "    def mapTs(self, id=1):\n",
    "\n",
    "        # Cartographie la température d'équilibre sans ou avec effet de serre\n",
    "        # id = 1 -> pas d'effet de serre\n",
    "        # id = 2 -> avec effet de serre\n",
    "\n",
    "        Ts1, Ts2 = self.intTeq()\n",
    "\n",
    "        if id == 1 :\n",
    "            Ts = Ts1\n",
    "            str = 'Sans effet de serre'\n",
    "        else :\n",
    "            Ts = Ts2\n",
    "            str = 'Avec effet de serre'\n",
    "\n",
    "        fig = plt.figure(figsize=(10,5))\n",
    "\n",
    "        ax = plt.axes(projection=ccrs.PlateCarree())\n",
    "        ax.set_title(str + ' : Ts moyenne = ' + np.str(np.int(np.nanmean(Ts))) + ' °C',fontsize=12, fontweight='bold')\n",
    "        lats = np.arange(-180, 180, 1)\n",
    "        lons = np.arange(-90, 90, 1)\n",
    "        p = ax.pcolor(lats, lons, Ts[::-1], cmap='coolwarm', transform=ccrs.PlateCarree(),\n",
    "                      vmin=-100,vmax=45)\n",
    "        fig.colorbar(p, ax=ax, orientation='horizontal',shrink=0.8)\n",
    "        ax.coastlines()\n",
    "\n",
    "        gl = ax.gridlines(crs=ccrs.PlateCarree(), draw_labels=True, linewidth=2, color='gray', alpha=0.2, linestyle='-')\n",
    "        gl.xlabels_top = False\n",
    "        gl.ylabels_right = False\n",
    "        gl.xformatter = LONGITUDE_FORMATTER\n",
    "        gl.yformatter = LATITUDE_FORMATTER\n",
    "        gl.xlabel_style = {'size': 10}\n",
    "        gl.ylabel_style = {'size': 10}\n",
    "\n",
    "        fig.show()\n",
    "        \n",
    "        \n",
    "    def mapAlbedo(self, id=1):\n",
    "\n",
    "        fig = plt.figure(figsize=(10,5))\n",
    "\n",
    "        ax = plt.axes(projection=ccrs.PlateCarree())\n",
    "        ax.set_title('Albédo',fontsize=12, fontweight='bold')\n",
    "        lats = np.arange(-180, 180, 1)\n",
    "        lons = np.arange(-90, 90, 1)\n",
    "        p = ax.pcolor(lats, lons,self.alpha[::-1], cmap='YlGnBu_r', transform=ccrs.PlateCarree(),\n",
    "                      vmin=0,vmax=1)\n",
    "        fig.colorbar(p, ax=ax, orientation='horizontal',shrink=0.8)\n",
    "        ax.coastlines()\n",
    "\n",
    "        gl = ax.gridlines(crs=ccrs.PlateCarree(), draw_labels=True, linewidth=2, color='gray', alpha=0.2, linestyle='-')\n",
    "        gl.xlabels_top = False\n",
    "        gl.ylabels_right = False\n",
    "        gl.xformatter = LONGITUDE_FORMATTER\n",
    "        gl.yformatter = LATITUDE_FORMATTER\n",
    "        gl.xlabel_style = {'size': 10}\n",
    "        gl.ylabel_style = {'size': 10}\n",
    "\n",
    "        fig.show()\n",
    "                \n",
    "        \n",
    "        \n",
    "        \n",
    "        \n",
    "        "
   ]
  },
  {
   "cell_type": "markdown",
   "metadata": {},
   "source": [
    "## Application"
   ]
  },
  {
   "cell_type": "code",
   "execution_count": 2,
   "metadata": {},
   "outputs": [
    {
     "ename": "NameError",
     "evalue": "name 'AlbedoEffect' is not defined",
     "output_type": "error",
     "traceback": [
      "\u001b[1;31m---------------------------------------------------------------------------\u001b[0m",
      "\u001b[1;31mNameError\u001b[0m                                 Traceback (most recent call last)",
      "\u001b[1;32m<ipython-input-2-e4b41d793167>\u001b[0m in \u001b[0;36m<module>\u001b[1;34m\u001b[0m\n\u001b[1;32m----> 1\u001b[1;33m \u001b[0mm1\u001b[0m \u001b[1;33m=\u001b[0m \u001b[0mAlbedoEffect\u001b[0m\u001b[1;33m(\u001b[0m\u001b[0mf1\u001b[0m\u001b[1;33m)\u001b[0m\u001b[1;33m\u001b[0m\u001b[1;33m\u001b[0m\u001b[0m\n\u001b[0m\u001b[0;32m      2\u001b[0m \u001b[1;33m\u001b[0m\u001b[0m\n\u001b[0;32m      3\u001b[0m \u001b[0mm1\u001b[0m\u001b[1;33m.\u001b[0m\u001b[0mmapAlbedo\u001b[0m\u001b[1;33m(\u001b[0m\u001b[1;33m)\u001b[0m\u001b[1;33m\u001b[0m\u001b[1;33m\u001b[0m\u001b[0m\n\u001b[0;32m      4\u001b[0m \u001b[0mm1\u001b[0m\u001b[1;33m.\u001b[0m\u001b[0mmapTs\u001b[0m\u001b[1;33m(\u001b[0m\u001b[1;36m1\u001b[0m\u001b[1;33m)\u001b[0m\u001b[1;33m\u001b[0m\u001b[1;33m\u001b[0m\u001b[0m\n\u001b[0;32m      5\u001b[0m \u001b[0mm1\u001b[0m\u001b[1;33m.\u001b[0m\u001b[0mmapTs\u001b[0m\u001b[1;33m(\u001b[0m\u001b[1;36m2\u001b[0m\u001b[1;33m)\u001b[0m\u001b[1;33m\u001b[0m\u001b[1;33m\u001b[0m\u001b[0m\n",
      "\u001b[1;31mNameError\u001b[0m: name 'AlbedoEffect' is not defined"
     ]
    }
   ],
   "source": [
    "m1 = AlbedoEffect(f1)\n",
    "\n",
    "m1.mapAlbedo()\n",
    "m1.mapTs(1)\n",
    "m1.mapTs(2)"
   ]
  },
  {
   "cell_type": "code",
   "execution_count": null,
   "metadata": {},
   "outputs": [],
   "source": []
  },
  {
   "cell_type": "markdown",
   "metadata": {},
   "source": [
    "# Le modèle : \"Terre boule de neige\""
   ]
  },
  {
   "cell_type": "code",
   "execution_count": 3,
   "metadata": {},
   "outputs": [],
   "source": [
    "import numpy\n",
    "import matplotlib.pyplot as plt\n",
    "\n",
    "def IceAlbedoFeedback(albedo=0.4,Lmin=1200,Lmax=1600):\n",
    "\n",
    "  # PARAMETERS\n",
    "  nTime = 100\n",
    "  mIce = 1.5\n",
    "  bIce = 322.5\n",
    "  mAlbedo = -0.01\n",
    "  bAlbedo = 2.8\n",
    "  LRange = [Lmin , Lmax]\n",
    "  epsilon = 1\n",
    "  sigma = 5.67E-8\n",
    "\n",
    "  # INITIALIZATION\n",
    "  # L starts at the highest value => we simulate a surface cooling\n",
    "  L = LRange[1]\n",
    "\n",
    "  LValues = []\n",
    "  temperatureValues = []\n",
    "  albedoValues = []\n",
    "  iceLatitudeValues = []\n",
    "\n",
    "  while L > LRange[0] - 1:\n",
    "    for iTime in range(0,nTime):\n",
    "      temperature = L * (1-albedo)/(4*epsilon*sigma)\n",
    "      temperature = temperature**(1/4)\n",
    "      albedo = mAlbedo * temperature + bAlbedo\n",
    "      iceLatitude = mIce * temperature + bIce\n",
    "      # Limits\n",
    "      albedo = max(0.15,albedo)\n",
    "      albedo = min(albedo,0.65)\n",
    "      iceLatitude = max(0,iceLatitude)\n",
    "      iceLatitude = min(iceLatitude,90)\n",
    "    # Lists\n",
    "    LValues.append(L)\n",
    "    temperatureValues.append(temperature)\n",
    "    albedoValues.append(albedo)\n",
    "    iceLatitudeValues.append(iceLatitude)\n",
    "    L = L - 10\n",
    "\n",
    "  # then a warming !\n",
    "  while L < LRange[1]:\n",
    "    for iTime in range(0,nTime):\n",
    "      temperature = L * (1-albedo)/(4*epsilon*sigma)\n",
    "      temperature = temperature**(1/4)\n",
    "      albedo = mAlbedo * temperature + bAlbedo\n",
    "      iceLatitude = mIce * temperature + bIce\n",
    "      # Limits\n",
    "      albedo = max(0.15,albedo)\n",
    "      albedo = min(albedo,0.65)\n",
    "      iceLatitude = max(0,iceLatitude)\n",
    "      iceLatitude = min(iceLatitude,90)\n",
    "    # Lists\n",
    "    LValues.append(L)\n",
    "    temperatureValues.append(temperature)\n",
    "    albedoValues.append(albedo)\n",
    "    iceLatitudeValues.append(iceLatitude)\n",
    "    L = L + 10\n",
    "\n",
    "  return LValues, temperatureValues\n",
    "\n"
   ]
  },
  {
   "cell_type": "markdown",
   "metadata": {},
   "source": [
    "## Application"
   ]
  },
  {
   "cell_type": "code",
   "execution_count": 4,
   "metadata": {},
   "outputs": [],
   "source": [
    "LValues, temperatureValues = IceAlbedoFeedback(0.1,1000,2000)"
   ]
  },
  {
   "cell_type": "code",
   "execution_count": 5,
   "metadata": {},
   "outputs": [
    {
     "data": {
      "image/png": "[encoded data removed]",
      "text/plain": [
       "<Figure size 360x360 with 1 Axes>"
      ]
     },
     "metadata": {
      "needs_background": "light"
     },
     "output_type": "display_data"
    }
   ],
   "source": [
    "# Figure\n",
    "plt.figure(figsize=(5,5))\n",
    "plt.title('Rétroaction glace-albédo',fontweight='bold')\n",
    "plt.plot(LValues,temperatureValues,color='lightskyblue')\n",
    "plt.xlabel('Energie solaire reçue [W/m²]')\n",
    "plt.ylabel('Température [K]')\n",
    "plt.show()"
   ]
  },
  {
   "cell_type": "code",
   "execution_count": null,
   "metadata": {},
   "outputs": [],
   "source": []
  }
 ],
 "metadata": {
  "kernelspec": {
   "display_name": "Python 3",
   "language": "python",
   "name": "python3"
  },
  "language_info": {
   "codemirror_mode": {
    "name": "ipython",
    "version": 3
   },
   "file_extension": ".py",
   "mimetype": "text/x-python",
   "name": "python",
   "nbconvert_exporter": "python",
   "pygments_lexer": "ipython3",
   "version": "3.8.5"
  }
 },
 "nbformat": 4,
 "nbformat_minor": 2
}
